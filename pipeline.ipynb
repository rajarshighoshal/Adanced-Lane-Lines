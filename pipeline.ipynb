{
 "cells": [
  {
   "cell_type": "code",
   "execution_count": 1,
   "metadata": {},
   "outputs": [],
   "source": [
    "import matplotlib.pyplot as plt\n",
    "import numpy as np\n",
    "import cv2\n",
    "import glob"
   ]
  },
  {
   "cell_type": "code",
   "execution_count": null,
   "metadata": {},
   "outputs": [],
   "source": [
    "# get image names with full path as list\n",
    "from undistortImg import camera_calibration, undistort_img\n",
    "\n",
    "img_path_list = glob.glob('/home/workspace/CarND-Advanced-Lane-Lines/camera_cal/calibration*.jpg')\n",
    "mtx, dist = camera_calibration(img_path_list)"
   ]
  },
  {
   "cell_type": "code",
   "execution_count": null,
   "metadata": {},
   "outputs": [],
   "source": [
    "f, axes = plt.subplots(8,2,figsize=(15,30))\n",
    "f.subplots_adjust(hspace=0.5)\n",
    "\n",
    "images = glob.glob('test_images/*.jpg') # Reading Images from test_images folder\n",
    "original_images = []\n",
    "undistorted_images = []\n",
    "for index, image in enumerate(images):\n",
    "    original_img = cv2.cvtColor(cv2.imread(image), cv2.COLOR_BGR2RGB)\n",
    "    original_images.append(original_img)\n",
    "    axes[index,0].imshow(original_img)\n",
    "    axes[index,0].set_title(\"Original Image\")\n",
    "    undistorted_img = undistort_img(original_img, mtx, dist) # undistorting image \n",
    "    undistorted_images.append(undistorted_img)\n",
    "    axes[index,1].set_title(\"Undistorted Image\")\n",
    "    axes[index,1].imshow(undistorted_img)"
   ]
  },
  {
   "cell_type": "code",
   "execution_count": null,
   "metadata": {},
   "outputs": [],
   "source": [
    "from colorChannel import create_threshold_binary\n",
    "\n",
    "f, axes = plt.subplots(8,2,figsize=(15,30))\n",
    "f.subplots_adjust(hspace=0.5)\n",
    "\n",
    "binary_images = []\n",
    "for index, image in enumerate(undistorted_images):\n",
    "    axes[index,0].imshow(image)\n",
    "    axes[index,0].set_title(\"Undistorted Original Image\")\n",
    "    binary_img = create_threshold_binary(image) # apply color threshold \n",
    "    binary_images.append(binary_img)\n",
    "    axes[index,1].set_title(\"Binary Image\")\n",
    "    axes[index,1].imshow(binary_img)"
   ]
  },
  {
   "cell_type": "code",
   "execution_count": null,
   "metadata": {},
   "outputs": [],
   "source": [
    "# testing ROI and wrap on test images\n",
    "from warpingImage import warp_perspective, ROI\n",
    "\n",
    "f, axes = plt.subplots(8,3,figsize=(15,30))\n",
    "f.subplots_adjust(hspace=0.5)\n",
    "\n",
    "warped_images = []\n",
    "M = None\n",
    "for index, image in enumerate(binary_images):\n",
    "    roi_image = image.copy()\n",
    "    axes[index,0].imshow(image)\n",
    "    axes[index,0].set_title(\"Original Binary Image\")\n",
    "    roi_image = ROI(roi_image)\n",
    "    axes[index,1].imshow(roi_image)\n",
    "    axes[index,1].set_title(\"Image with Region Of Interest\")\n",
    "    y=image.shape[0]\n",
    "    x=image.shape[1]\n",
    "    warped, M, M_inv = warp_perspective(image)\n",
    "    warped_images.append(warped)\n",
    "    axes[index,2].imshow(warped)\n",
    "    axes[index,2].set_title(\"Warped Image\")"
   ]
  },
  {
   "cell_type": "code",
   "execution_count": null,
   "metadata": {},
   "outputs": [],
   "source": [
    "# Define conversions in x and y from pixels space to meters\n",
    "ym_per_pix = 30/720 # meters per pixel in y dimension\n",
    "xm_per_pix = 3.7/700 # meters per pixel in x dimension\n",
    "\n",
    "from lanePixelDetector import find_first_lanes\n",
    "\n",
    "f, axes = plt.subplots(8,3,figsize=(15,30))\n",
    "f.subplots_adjust(hspace=0.5)\n",
    "\n",
    "for index, image in enumerate(warped_images):\n",
    "    axes[index,0].imshow(original_images[index])\n",
    "    axes[index,0].set_title(\"Original Image\")\n",
    "    \n",
    "    axes[index,1].imshow(image)\n",
    "    axes[index,1].set_title(\"Warped Image\")\n",
    "\n",
    "    left_fit, right_fit, left_fit_m, right_fit_m, left_lane_inds, right_lane_inds, \\\n",
    "        out_img, nonzerox, nonzeroy = find_first_lanes(image, ym_per_pix, xm_per_pix)\n",
    "    # Visualization\n",
    "    ploty = np.linspace(0, image.shape[0]-1, image.shape[0] )\n",
    "    left_fitx = left_fit[0]*ploty**2 + left_fit[1]*ploty + left_fit[2]\n",
    "    right_fitx = right_fit[0]*ploty**2 + right_fit[1]*ploty + right_fit[2]\n",
    "\n",
    "    out_img[nonzeroy[left_lane_inds], nonzerox[left_lane_inds]] = [255, 0, 0]\n",
    "    out_img[nonzeroy[right_lane_inds], nonzerox[right_lane_inds]] = [0, 0, 255]\n",
    "    axes[index,2].imshow(out_img)\n",
    "    axes[index,2].plot(left_fitx, ploty, color='yellow')\n",
    "    axes[index,2].plot(right_fitx, ploty, color='yellow')\n",
    "    axes[index,2].set_title(\"Final Image\")"
   ]
  },
  {
   "cell_type": "code",
   "execution_count": null,
   "metadata": {},
   "outputs": [],
   "source": [
    "from laneDrawer import draw_patch\n",
    "\n",
    "f, axes = plt.subplots(8,2,figsize=(15,30))\n",
    "f.subplots_adjust(hspace=0.5)\n",
    "\n",
    "for index, image in enumerate(original_images):\n",
    "    axes[index,0].imshow(image)\n",
    "    axes[index,0].set_title(\"Original Image\")\n",
    "\n",
    "    left_fit, right_fit, left_fit_m, right_fit_m, left_lane_inds, right_lane_inds, \\\n",
    "        out_img, nonzerox, nonzeroy = find_first_lanes(warped_images[index], ym_per_pix, xm_per_pix)\n",
    "    # Visualization\n",
    "    output = draw_patch(image, left_fit, right_fit, M_inv)\n",
    "    axes[index,1].imshow(output)\n",
    "    axes[index,1].set_title(\"Output Image\")"
   ]
  },
  {
   "cell_type": "code",
   "execution_count": null,
   "metadata": {},
   "outputs": [],
   "source": []
  }
 ],
 "metadata": {
  "kernelspec": {
   "display_name": "Python 3",
   "language": "python",
   "name": "python3"
  },
  "language_info": {
   "codemirror_mode": {
    "name": "ipython",
    "version": 3
   },
   "file_extension": ".py",
   "mimetype": "text/x-python",
   "name": "python",
   "nbconvert_exporter": "python",
   "pygments_lexer": "ipython3",
   "version": "3.6.3"
  }
 },
 "nbformat": 4,
 "nbformat_minor": 2
}
